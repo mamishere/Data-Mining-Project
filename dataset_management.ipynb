{
 "cells": [
  {
   "cell_type": "markdown",
   "metadata": {},
   "source": [
    "# **Datasets Management**"
   ]
  },
  {
   "cell_type": "markdown",
   "metadata": {},
   "source": [
    "# Import Relevant Libraries"
   ]
  },
  {
   "cell_type": "code",
   "execution_count": 1,
   "metadata": {},
   "outputs": [],
   "source": [
    "# Import necessary genral libraries/modules\n",
    "import os\n",
    "import fnmatch\n",
    "import shutil\n",
    "\n",
    "# Import data-oriented libraries\n",
    "import pandas as pd\n",
    "import numpy as np\n",
    "from natsort import natsorted"
   ]
  },
  {
   "cell_type": "markdown",
   "metadata": {},
   "source": [
    "# First Organization"
   ]
  },
  {
   "cell_type": "markdown",
   "metadata": {},
   "source": [
    "Create a list of all directories."
   ]
  },
  {
   "cell_type": "code",
   "execution_count": 2,
   "metadata": {},
   "outputs": [
    {
     "name": "stdout",
     "output_type": "stream",
     "text": [
      "There are 4 folders in the current directory, which are:\n",
      "\n",
      "All Datasets\n",
      "Questionnaire Data\n",
      "Examination Data\n",
      "Demographic Variables and Sample Weights\n"
     ]
    }
   ],
   "source": [
    "# Get the current working directory\n",
    "current_directory = os.getcwd()\n",
    "\n",
    "# List all directories in the current directory\n",
    "directories = [d for d in os.listdir(current_directory)\n",
    "               if os.path.isdir(os.path.join(current_directory, d))]\n",
    "\n",
    "print(f\"There are {len(directories)} folders in the current directory, which are:\")\n",
    "print()\n",
    "\n",
    "for dir in directories:\n",
    "    print(dir)"
   ]
  },
  {
   "cell_type": "markdown",
   "metadata": {},
   "source": [
    "Remove the \"All datastest\" folder from the list of folders in the current directory."
   ]
  },
  {
   "cell_type": "code",
   "execution_count": 3,
   "metadata": {},
   "outputs": [],
   "source": [
    "directories.remove(\"All Datasets\")"
   ]
  },
  {
   "cell_type": "markdown",
   "metadata": {},
   "source": [
    "It seems nice. Now create a list of xpt files' paths in the current directory."
   ]
  },
  {
   "cell_type": "code",
   "execution_count": 4,
   "metadata": {},
   "outputs": [],
   "source": [
    "# Define a function to find .XPT files in a directory and its subdirectories.\n",
    "def find_xpt_files(root_dir):\n",
    "    \n",
    "    # Initialize an empty list to store the file paths\n",
    "    xpt_files = []\n",
    "    \n",
    "    for root, dirs, files in os.walk(root_dir):\n",
    "        \n",
    "        # Walk through the directory tree rooted at root_dir.\n",
    "        for filename in fnmatch.filter(files, \"*.XPT\"):\n",
    "            \n",
    "            # For each file with a .XPT extension add its full path to the xpt_files list.\n",
    "            xpt_files.append(os.path.join(root, filename))\n",
    "\n",
    "    return xpt_files"
   ]
  },
  {
   "cell_type": "code",
   "execution_count": 5,
   "metadata": {},
   "outputs": [
    {
     "name": "stdout",
     "output_type": "stream",
     "text": [
      "/Users/shahriyar/Library/Mobile Documents/com~apple~CloudDocs/Study/SUT/TA/Advanced Programming/Main Project/Datasets/Questionnaire Data/Smoking - Cigarette Use/P_SMQ.XPT\n",
      "/Users/shahriyar/Library/Mobile Documents/com~apple~CloudDocs/Study/SUT/TA/Advanced Programming/Main Project/Datasets/Questionnaire Data/Income/P_INQ.XPT\n",
      "/Users/shahriyar/Library/Mobile Documents/com~apple~CloudDocs/Study/SUT/TA/Advanced Programming/Main Project/Datasets/Questionnaire Data/Diabetes/P_DIQ.XPT\n",
      "/Users/shahriyar/Library/Mobile Documents/com~apple~CloudDocs/Study/SUT/TA/Advanced Programming/Main Project/Datasets/Questionnaire Data/Cardiovascular Health/P_CDQ.XPT\n",
      "/Users/shahriyar/Library/Mobile Documents/com~apple~CloudDocs/Study/SUT/TA/Advanced Programming/Main Project/Datasets/Questionnaire Data/Physical Activity/P_PAQ.XPT\n",
      "/Users/shahriyar/Library/Mobile Documents/com~apple~CloudDocs/Study/SUT/TA/Advanced Programming/Main Project/Datasets/Questionnaire Data/Alcohol Use/P_ALQ.XPT\n",
      "/Users/shahriyar/Library/Mobile Documents/com~apple~CloudDocs/Study/SUT/TA/Advanced Programming/Main Project/Datasets/Examination Data/Body Measures/P_BMX.XPT\n",
      "/Users/shahriyar/Library/Mobile Documents/com~apple~CloudDocs/Study/SUT/TA/Advanced Programming/Main Project/Datasets/Demographic Variables and Sample Weights/P_DEMO.XPT\n"
     ]
    }
   ],
   "source": [
    "# Specify the current directory as the root directory.\n",
    "current_directory = os.getcwd()\n",
    "\n",
    "# Call the find_xpt_files function with the current directory.\n",
    "xpt_file_paths = find_xpt_files(current_directory)\n",
    "\n",
    "for xpt_file_path in xpt_file_paths:\n",
    "    print(xpt_file_path)"
   ]
  },
  {
   "cell_type": "markdown",
   "metadata": {},
   "source": [
    "Create a new directory to save all datasets in it."
   ]
  },
  {
   "cell_type": "code",
   "execution_count": 6,
   "metadata": {},
   "outputs": [],
   "source": [
    "# Define the name of the new folder.\n",
    "new_folder_name = \"All Datasets\"\n",
    "\n",
    "# Create the full path to the new folder.\n",
    "new_folder_path = os.path.join(current_directory, new_folder_name)\n",
    "\n",
    "# Create the new folder if it doesn't exist.\n",
    "os.makedirs(new_folder_path, exist_ok=True)"
   ]
  },
  {
   "cell_type": "markdown",
   "metadata": {},
   "source": [
    "**<font color='red'>Now, create a copy for each dataset in a new directory.</font>**"
   ]
  },
  {
   "cell_type": "code",
   "execution_count": 7,
   "metadata": {},
   "outputs": [
    {
     "name": "stdout",
     "output_type": "stream",
     "text": [
      "Files copied to: /Users/shahriyar/Library/Mobile Documents/com~apple~CloudDocs/Study/SUT/TA/Advanced Programming/Main Project/Datasets/All Datasets\n"
     ]
    }
   ],
   "source": [
    "\n",
    "# Loop through each .XPT file in the list.\n",
    "for xpt_file_path in xpt_file_paths:\n",
    "    \n",
    "    # Extract the filename from the full path.\n",
    "    filename = os.path.basename(xpt_file_path)\n",
    "\n",
    "    # Determine the subdirectories between the current directory and the file.\n",
    "    subdirectories = os.path.relpath(xpt_file_path, current_directory).split(os.path.sep)[:-1]\n",
    "\n",
    "    # Generate a subdirectory name by joining the subdirectories with underscores.\n",
    "    subdirectory_name = \"_\".join(subdirectories)\n",
    "\n",
    "    # Remove spaces from the subdirectory name.\n",
    "    subdirectory_name = subdirectory_name.replace(\" \", \"\")\n",
    "\n",
    "    # Construct the new filename with the subdirectory name and .XPT extension.\n",
    "    new_filename = f\"{subdirectory_name}\" + \".XPT\"\n",
    "\n",
    "    # Create the full path to the new location for the file within the new folder.\n",
    "    new_file_path = os.path.join(new_folder_path, new_filename)\n",
    "\n",
    "    # Copy the .XPT file to the new location.\n",
    "    shutil.copy(xpt_file_path, new_file_path)\n",
    "\n",
    "print(f\"Files copied to: {new_folder_path}\")"
   ]
  },
  {
   "cell_type": "markdown",
   "metadata": {},
   "source": [
    "Seems perfect. Now, we can read these files.</br>\n",
    "Although it does not seem a good idea, read all of the files in the memory."
   ]
  },
  {
   "cell_type": "code",
   "execution_count": 8,
   "metadata": {},
   "outputs": [
    {
     "name": "stdout",
     "output_type": "stream",
     "text": [
      "QuestionnaireData_Diabetes\n",
      "(14986, 28)\n",
      "\n",
      "QuestionnaireData_PhysicalActivity\n",
      "(9693, 17)\n",
      "\n",
      "QuestionnaireData_Smoking-CigaretteUse\n",
      "(11137, 16)\n",
      "\n",
      "ExaminationData_BodyMeasures\n",
      "(14300, 22)\n",
      "\n",
      "QuestionnaireData_Income\n",
      "(15560, 3)\n",
      "\n",
      "QuestionnaireData_AlcoholUse\n",
      "(8965, 10)\n",
      "\n",
      "QuestionnaireData_CardiovascularHealth\n",
      "(6433, 17)\n",
      "\n",
      "DemographicVariablesandSampleWeights\n",
      "(15560, 29)\n",
      "\n"
     ]
    }
   ],
   "source": [
    "dataset_dict = {}\n",
    "\n",
    "# Call the find_xpt_files function to obtain a list of XPT file paths within the specified directory.\n",
    "xpt_file_paths = find_xpt_files(new_folder_path)\n",
    "\n",
    "# Loop through each XPT file path to read it.\n",
    "for xpt_file_path in xpt_file_paths:\n",
    "\n",
    "    dataset_name = os.path.basename(xpt_file_path).split(\".XPT\")[0]\n",
    "    dataset_dict[dataset_name] = pd.read_sas(xpt_file_path, format=\"xport\")\n",
    "    \n",
    "# Iterate through each dataset in the dictionary to show their information.\n",
    "for key in dataset_dict.keys():\n",
    "\n",
    "    print(key)\n",
    "    print(dataset_dict[key].shape)\n",
    "    print()"
   ]
  },
  {
   "cell_type": "markdown",
   "metadata": {},
   "source": [
    "# Extract All The Important Features"
   ]
  },
  {
   "cell_type": "markdown",
   "metadata": {},
   "source": [
    "These are the important features.\n",
    "\n",
    "- DemographicVariablesandSampleWeights\n",
    "\n",
    "    SEQN - Respondent sequence number</br>\n",
    "    RIAGENDR - Gender</br>\n",
    "    RIDAGEYR - Age in years at screening</br>\n",
    "    RIDRETH1 - Race/Hispanic origin</br>\n",
    "\n",
    "- ExaminationData_BodyMeasures\n",
    "\n",
    "    SEQN - Respondent sequence number</br>\n",
    "    BMXWT - Weight (kg)</br>\n",
    "    BMXBMI - Body Mass Index (kg/m**2)</br>\n",
    "\n",
    "- QuestionnaireData_Diabetes\n",
    "\n",
    "    SEQN - Respondent sequence number</br>\n",
    "    DIQ010 - Doctor told you have diabetes</br>\n",
    "\n",
    "- QuestionnaireData_PhysicalActivity\n",
    "\n",
    "    SEQN - Respondent sequence number</br>\n",
    "    PAQ605 - Vigorous work activity</br>\n",
    "\n",
    "- QuestionnaireData_Smoking-CigaretteUse\n",
    "\n",
    "    SEQN - Respondent sequence number</br>\n",
    "    SMQ020 - Smoked at least 100 cigarettes in life</br>\n",
    "\n",
    "- QuestionnaireData_Income\n",
    "\n",
    "    SEQN - Respondent sequence number</br>\n",
    "    INDFMMPC - Family monthly poverty level category</br>\n",
    "\n",
    "- QuestionnaireData_AlcoholUse\n",
    "\n",
    "    SEQN - Respondent sequence number</br>\n",
    "    ALQ111 - Ever had a drink of any kind of alcohol</br>\n",
    "    ALQ121 - Past 12 mo how often drink alcoholic bev</br>\n",
    "\n",
    "- QuestionnaireData_CardiovascularHealth\n",
    "\n",
    "    SEQN - Respondent sequence number</br>\n",
    "    CDQ001 - SP ever had pain or discomfort in chest</br>\n",
    "    CDQ010 - Shortness of breath on stairs/inclines</br>"
   ]
  },
  {
   "cell_type": "markdown",
   "metadata": {},
   "source": [
    "Firts of all, create a dictionary of all the important features for datasets."
   ]
  },
  {
   "cell_type": "code",
   "execution_count": 9,
   "metadata": {},
   "outputs": [],
   "source": [
    "features_dict = {\n",
    "    \"DemographicVariablesandSampleWeights\" :\n",
    "        [\"SEQN\",\n",
    "         \"RIAGENDR\",\n",
    "         \"RIDAGEYR\",\n",
    "         \"RIDRETH1\"],\n",
    "    \"ExaminationData_BodyMeasures\" :\n",
    "        [\"SEQN\",\n",
    "         \"BMXWT\",\n",
    "         \"BMXBMI\"],\n",
    "    \"QuestionnaireData_Diabetes\" :\n",
    "        [\"SEQN\",\n",
    "         \"DIQ010\"],\n",
    "    \"QuestionnaireData_PhysicalActivity\" :\n",
    "        [\"SEQN\",\n",
    "         \"PAQ605\"],\n",
    "    \"QuestionnaireData_Smoking-CigaretteUse\" :\n",
    "        [\"SEQN\",\n",
    "         \"SMQ020\"],\n",
    "    \"QuestionnaireData_Income\" :\n",
    "        [\"SEQN\",\n",
    "         \"INDFMMPC\"],\n",
    "    \"QuestionnaireData_AlcoholUse\" :\n",
    "        [\"SEQN\",\n",
    "         \"ALQ111\",\n",
    "         \"ALQ121\"],\n",
    "    \"QuestionnaireData_CardiovascularHealth\" :\n",
    "        [\"SEQN\",\n",
    "         \"CDQ001\",\n",
    "         \"CDQ010\"]\n",
    "        }"
   ]
  },
  {
   "cell_type": "markdown",
   "metadata": {},
   "source": [
    "Now, we can delete the irrelevant features."
   ]
  },
  {
   "cell_type": "code",
   "execution_count": 10,
   "metadata": {},
   "outputs": [],
   "source": [
    "# Iterate through the keys in the dataset_dict (each key represents a dataset).\n",
    "for key in dataset_dict.keys():\n",
    "    \n",
    "    # Get the DataFrame associated with the current dataset.\n",
    "    df = dataset_dict[key]\n",
    "\n",
    "    # Get the list of relevant features for this dataset from the features_dict.\n",
    "    relevant_features = features_dict[key]\n",
    "\n",
    "    # Create a new DataFrame containing only the relevant features.\n",
    "    new_df = df[relevant_features]\n",
    "\n",
    "    # Update the dataset_dict with the new DataFrame, containing only relevant features.\n",
    "    dataset_dict[key] = new_df"
   ]
  },
  {
   "cell_type": "markdown",
   "metadata": {},
   "source": [
    "Now, let's check not missing values for each dataset's features."
   ]
  },
  {
   "cell_type": "code",
   "execution_count": 11,
   "metadata": {},
   "outputs": [
    {
     "name": "stdout",
     "output_type": "stream",
     "text": [
      "DemographicVariablesandSampleWeights\n",
      "\n",
      "SEQN        100.0\n",
      "RIAGENDR    100.0\n",
      "RIDAGEYR    100.0\n",
      "RIDRETH1    100.0\n",
      "dtype: float64\n",
      "--------------------------------------------------------------------------------\n",
      "ExaminationData_BodyMeasures\n",
      "\n",
      "SEQN      100.00\n",
      "BMXWT      98.43\n",
      "BMXBMI     91.87\n",
      "dtype: float64\n",
      "--------------------------------------------------------------------------------\n",
      "QuestionnaireData_AlcoholUse\n",
      "\n",
      "SEQN      100.00\n",
      "ALQ111     93.36\n",
      "ALQ121     83.69\n",
      "dtype: float64\n",
      "--------------------------------------------------------------------------------\n",
      "QuestionnaireData_CardiovascularHealth\n",
      "\n",
      "SEQN      100.0\n",
      "CDQ001    100.0\n",
      "CDQ010    100.0\n",
      "dtype: float64\n",
      "--------------------------------------------------------------------------------\n",
      "QuestionnaireData_Diabetes\n",
      "\n",
      "SEQN      100.0\n",
      "DIQ010    100.0\n",
      "dtype: float64\n",
      "--------------------------------------------------------------------------------\n",
      "QuestionnaireData_Income\n",
      "\n",
      "SEQN        100.00\n",
      "INDFMMPC     91.63\n",
      "dtype: float64\n",
      "--------------------------------------------------------------------------------\n",
      "QuestionnaireData_PhysicalActivity\n",
      "\n",
      "SEQN      100.0\n",
      "PAQ605    100.0\n",
      "dtype: float64\n",
      "--------------------------------------------------------------------------------\n",
      "QuestionnaireData_Smoking-CigaretteUse\n",
      "\n",
      "SEQN      100.00\n",
      "SMQ020     87.03\n",
      "dtype: float64\n"
     ]
    }
   ],
   "source": [
    "# Iterate through the keys in dataset_dict, sorted in alphabetical order.\n",
    "for key in sorted(list(dataset_dict.keys())):\n",
    "        \n",
    "    # Get the DataFrame associated with the current key.\n",
    "    df = dataset_dict[key]    \n",
    "    \n",
    "    # Print the dataset key.\n",
    "    print(key)\n",
    "    print()\n",
    "    \n",
    "    # Calculate the proportion of non-missing values for each feature in the DataFrame.\n",
    "    # This is done by dividing the count of non-null values by the total number of rows and multiplying by 100.\n",
    "    proportions = round(((df.count() / len(df)) * 100), 2)\n",
    "    \n",
    "    # Print the proportions of non-missing values for each feature in the DataFrame.\n",
    "    print(proportions)\n",
    "\n",
    "    # Check if the current key is not the last key in the sorted list of keys.\n",
    "    if key != sorted(list(dataset_dict.keys()))[-1]:\n",
    "        print(\"-\" * 80)"
   ]
  },
  {
   "cell_type": "markdown",
   "metadata": {},
   "source": [
    "# Merge The Datasets"
   ]
  },
  {
   "cell_type": "markdown",
   "metadata": {},
   "source": [
    "Outer-merge the datasets by the key of SEQN."
   ]
  },
  {
   "cell_type": "code",
   "execution_count": 12,
   "metadata": {},
   "outputs": [
    {
     "name": "stdout",
     "output_type": "stream",
     "text": [
      "Dataset has the shape of: (15560, 14)\n"
     ]
    },
    {
     "data": {
      "text/html": [
       "<div>\n",
       "<style scoped>\n",
       "    .dataframe tbody tr th:only-of-type {\n",
       "        vertical-align: middle;\n",
       "    }\n",
       "\n",
       "    .dataframe tbody tr th {\n",
       "        vertical-align: top;\n",
       "    }\n",
       "\n",
       "    .dataframe thead th {\n",
       "        text-align: right;\n",
       "    }\n",
       "</style>\n",
       "<table border=\"1\" class=\"dataframe\">\n",
       "  <thead>\n",
       "    <tr style=\"text-align: right;\">\n",
       "      <th></th>\n",
       "      <th>SEQN</th>\n",
       "      <th>DIQ010</th>\n",
       "      <th>PAQ605</th>\n",
       "      <th>SMQ020</th>\n",
       "      <th>BMXWT</th>\n",
       "      <th>BMXBMI</th>\n",
       "      <th>INDFMMPC</th>\n",
       "      <th>ALQ111</th>\n",
       "      <th>ALQ121</th>\n",
       "      <th>CDQ001</th>\n",
       "      <th>CDQ010</th>\n",
       "      <th>RIAGENDR</th>\n",
       "      <th>RIDAGEYR</th>\n",
       "      <th>RIDRETH1</th>\n",
       "    </tr>\n",
       "  </thead>\n",
       "  <tbody>\n",
       "    <tr>\n",
       "      <th>0</th>\n",
       "      <td>109263.0</td>\n",
       "      <td>2.0</td>\n",
       "      <td>NaN</td>\n",
       "      <td>NaN</td>\n",
       "      <td>NaN</td>\n",
       "      <td>NaN</td>\n",
       "      <td>3.0</td>\n",
       "      <td>NaN</td>\n",
       "      <td>NaN</td>\n",
       "      <td>NaN</td>\n",
       "      <td>NaN</td>\n",
       "      <td>1.0</td>\n",
       "      <td>2.0</td>\n",
       "      <td>5.0</td>\n",
       "    </tr>\n",
       "    <tr>\n",
       "      <th>1</th>\n",
       "      <td>109264.0</td>\n",
       "      <td>2.0</td>\n",
       "      <td>NaN</td>\n",
       "      <td>NaN</td>\n",
       "      <td>42.2</td>\n",
       "      <td>17.6</td>\n",
       "      <td>1.0</td>\n",
       "      <td>NaN</td>\n",
       "      <td>NaN</td>\n",
       "      <td>NaN</td>\n",
       "      <td>NaN</td>\n",
       "      <td>2.0</td>\n",
       "      <td>13.0</td>\n",
       "      <td>1.0</td>\n",
       "    </tr>\n",
       "    <tr>\n",
       "      <th>2</th>\n",
       "      <td>109265.0</td>\n",
       "      <td>2.0</td>\n",
       "      <td>NaN</td>\n",
       "      <td>NaN</td>\n",
       "      <td>12.0</td>\n",
       "      <td>15.0</td>\n",
       "      <td>3.0</td>\n",
       "      <td>NaN</td>\n",
       "      <td>NaN</td>\n",
       "      <td>NaN</td>\n",
       "      <td>NaN</td>\n",
       "      <td>1.0</td>\n",
       "      <td>2.0</td>\n",
       "      <td>3.0</td>\n",
       "    </tr>\n",
       "    <tr>\n",
       "      <th>3</th>\n",
       "      <td>109266.0</td>\n",
       "      <td>2.0</td>\n",
       "      <td>2.0</td>\n",
       "      <td>2.0</td>\n",
       "      <td>97.1</td>\n",
       "      <td>37.8</td>\n",
       "      <td>3.0</td>\n",
       "      <td>1.0</td>\n",
       "      <td>10.0</td>\n",
       "      <td>NaN</td>\n",
       "      <td>NaN</td>\n",
       "      <td>2.0</td>\n",
       "      <td>29.0</td>\n",
       "      <td>5.0</td>\n",
       "    </tr>\n",
       "    <tr>\n",
       "      <th>4</th>\n",
       "      <td>109267.0</td>\n",
       "      <td>2.0</td>\n",
       "      <td>2.0</td>\n",
       "      <td>2.0</td>\n",
       "      <td>NaN</td>\n",
       "      <td>NaN</td>\n",
       "      <td>3.0</td>\n",
       "      <td>NaN</td>\n",
       "      <td>NaN</td>\n",
       "      <td>NaN</td>\n",
       "      <td>NaN</td>\n",
       "      <td>2.0</td>\n",
       "      <td>21.0</td>\n",
       "      <td>2.0</td>\n",
       "    </tr>\n",
       "  </tbody>\n",
       "</table>\n",
       "</div>"
      ],
      "text/plain": [
       "       SEQN  DIQ010  PAQ605  SMQ020  BMXWT  BMXBMI  INDFMMPC  ALQ111  ALQ121   \n",
       "0  109263.0     2.0     NaN     NaN    NaN     NaN       3.0     NaN     NaN  \\\n",
       "1  109264.0     2.0     NaN     NaN   42.2    17.6       1.0     NaN     NaN   \n",
       "2  109265.0     2.0     NaN     NaN   12.0    15.0       3.0     NaN     NaN   \n",
       "3  109266.0     2.0     2.0     2.0   97.1    37.8       3.0     1.0    10.0   \n",
       "4  109267.0     2.0     2.0     2.0    NaN     NaN       3.0     NaN     NaN   \n",
       "\n",
       "   CDQ001  CDQ010  RIAGENDR  RIDAGEYR  RIDRETH1  \n",
       "0     NaN     NaN       1.0       2.0       5.0  \n",
       "1     NaN     NaN       2.0      13.0       1.0  \n",
       "2     NaN     NaN       1.0       2.0       3.0  \n",
       "3     NaN     NaN       2.0      29.0       5.0  \n",
       "4     NaN     NaN       2.0      21.0       2.0  "
      ]
     },
     "execution_count": 12,
     "metadata": {},
     "output_type": "execute_result"
    }
   ],
   "source": [
    "# Create an empty DataFrame with 'SEQN' column\n",
    "merged_df = pd.DataFrame({\"SEQN\": []})\n",
    "\n",
    "# Iterate through the DataFrames in dataset_dict and merge them into merged_df based on the 'SEQN' column using an outer join.\n",
    "for df in dataset_dict.values():\n",
    "    merged_df = pd.merge(merged_df, df, on=\"SEQN\", how=\"outer\")\n",
    "\n",
    "print(\"Dataset has the shape of:\", merged_df.shape)\n",
    "merged_df.head(5)"
   ]
  },
  {
   "cell_type": "markdown",
   "metadata": {},
   "source": [
    "# Deal with The Missing Values"
   ]
  },
  {
   "cell_type": "markdown",
   "metadata": {},
   "source": [
    "Let's check the final dataset's features not-missing values percebtage."
   ]
  },
  {
   "cell_type": "code",
   "execution_count": 13,
   "metadata": {},
   "outputs": [
    {
     "name": "stdout",
     "output_type": "stream",
     "text": [
      "SEQN        100.00\n",
      "RIAGENDR    100.00\n",
      "RIDAGEYR    100.00\n",
      "RIDRETH1    100.00\n",
      "DIQ010       96.31\n",
      "INDFMMPC     91.63\n",
      "BMXWT        90.46\n",
      "BMXBMI       84.43\n",
      "PAQ605       62.29\n",
      "SMQ020       62.29\n",
      "ALQ111       53.79\n",
      "ALQ121       48.22\n",
      "CDQ001       41.34\n",
      "CDQ010       41.34\n",
      "dtype: float64\n"
     ]
    }
   ],
   "source": [
    "# Calculate the percentage of non-null values for each feature in the merged_df DataFrame.\n",
    "percentage_counts = round(((merged_df.count() / len(merged_df)) * 100), 2)\n",
    "\n",
    "# Sort the percentages in descending order (highest percentages first).\n",
    "sorted_percentages = percentage_counts.sort_values(ascending=False)\n",
    "\n",
    "print(sorted_percentages)"
   ]
  },
  {
   "cell_type": "markdown",
   "metadata": {},
   "source": [
    "It does not seem well, so we can check the records. There may be some records with a lot features that are missing."
   ]
  },
  {
   "cell_type": "code",
   "execution_count": 14,
   "metadata": {},
   "outputs": [
    {
     "name": "stdout",
     "output_type": "stream",
     "text": [
      "The dataset with the records that have more than 20% missing values has the shape of:  (7449, 14)\n"
     ]
    }
   ],
   "source": [
    "# Define the threshold for missing values (20% here).\n",
    "missing_threshold = 0.20 * len(merged_df.columns)\n",
    "\n",
    "# Create a new DataFrame containing records with more than 20% missing values.\n",
    "records_with_missing_values = merged_df[merged_df.isnull().sum(axis=1) > missing_threshold]\n",
    "\n",
    "print(\"The dataset with the records that have more than 20% missing values has the shape of: \",\n",
    "      records_with_missing_values.shape)"
   ]
  },
  {
   "cell_type": "markdown",
   "metadata": {},
   "source": [
    "Its seems that these records are not helpful to be added to our final dataset, so let's remove them."
   ]
  },
  {
   "cell_type": "code",
   "execution_count": 15,
   "metadata": {},
   "outputs": [
    {
     "name": "stdout",
     "output_type": "stream",
     "text": [
      "The filtered dataset has the shape of:  (8111, 14)\n"
     ]
    }
   ],
   "source": [
    "# Create a new DataFrame (filtered_df) by selecting rows from the merged DataFrame (merged_df) \n",
    "# where the sum of missing values (NaNs) in each row is less than or equal to the missing_threshold.\n",
    "\n",
    "filtered_df = merged_df[merged_df.isnull().sum(axis=1) <= missing_threshold]\n",
    "\n",
    "# Print the shape of the filtered dataset, which shows the number of rows and columns.\n",
    "print(\"The filtered dataset has the shape of: \", filtered_df.shape)"
   ]
  },
  {
   "cell_type": "markdown",
   "metadata": {},
   "source": [
    "Now, let's check the not-missing values proportion in this filtered dataset."
   ]
  },
  {
   "cell_type": "code",
   "execution_count": 16,
   "metadata": {},
   "outputs": [
    {
     "name": "stdout",
     "output_type": "stream",
     "text": [
      "SEQN        100.00\n",
      "DIQ010      100.00\n",
      "PAQ605      100.00\n",
      "SMQ020      100.00\n",
      "RIAGENDR    100.00\n",
      "RIDAGEYR    100.00\n",
      "RIDRETH1    100.00\n",
      "BMXWT        99.30\n",
      "BMXBMI       99.09\n",
      "ALQ111       96.39\n",
      "INDFMMPC     94.77\n",
      "ALQ121       89.95\n",
      "CDQ001       71.95\n",
      "CDQ010       71.95\n",
      "dtype: float64\n"
     ]
    }
   ],
   "source": [
    "# Calculate the percentage of non-null values for each feature in the DataFrame.\n",
    "percentage_counts = round(((filtered_df.count() / len(filtered_df)) * 100), 2)\n",
    "\n",
    "# Sort the percentages in descending order to see features with more non-null values first.\n",
    "sorted_percentages = percentage_counts.sort_values(ascending=False)\n",
    "\n",
    "print(sorted_percentages)"
   ]
  },
  {
   "cell_type": "markdown",
   "metadata": {},
   "source": [
    "# Clean The Final Dataset"
   ]
  },
  {
   "cell_type": "markdown",
   "metadata": {},
   "source": [
    "Firstly, change the pandas default features number that are shown when you display the dataframe."
   ]
  },
  {
   "cell_type": "code",
   "execution_count": 17,
   "metadata": {},
   "outputs": [],
   "source": [
    "pd.options.display.max_columns = None"
   ]
  },
  {
   "cell_type": "markdown",
   "metadata": {},
   "source": [
    "Let's check the datset."
   ]
  },
  {
   "cell_type": "code",
   "execution_count": 18,
   "metadata": {},
   "outputs": [
    {
     "data": {
      "text/html": [
       "<div>\n",
       "<style scoped>\n",
       "    .dataframe tbody tr th:only-of-type {\n",
       "        vertical-align: middle;\n",
       "    }\n",
       "\n",
       "    .dataframe tbody tr th {\n",
       "        vertical-align: top;\n",
       "    }\n",
       "\n",
       "    .dataframe thead th {\n",
       "        text-align: right;\n",
       "    }\n",
       "</style>\n",
       "<table border=\"1\" class=\"dataframe\">\n",
       "  <thead>\n",
       "    <tr style=\"text-align: right;\">\n",
       "      <th></th>\n",
       "      <th>SEQN</th>\n",
       "      <th>DIQ010</th>\n",
       "      <th>PAQ605</th>\n",
       "      <th>SMQ020</th>\n",
       "      <th>BMXWT</th>\n",
       "      <th>BMXBMI</th>\n",
       "      <th>INDFMMPC</th>\n",
       "      <th>ALQ111</th>\n",
       "      <th>ALQ121</th>\n",
       "      <th>CDQ001</th>\n",
       "      <th>CDQ010</th>\n",
       "      <th>RIAGENDR</th>\n",
       "      <th>RIDAGEYR</th>\n",
       "      <th>RIDRETH1</th>\n",
       "    </tr>\n",
       "  </thead>\n",
       "  <tbody>\n",
       "    <tr>\n",
       "      <th>3</th>\n",
       "      <td>109266.0</td>\n",
       "      <td>2.0</td>\n",
       "      <td>2.0</td>\n",
       "      <td>2.0</td>\n",
       "      <td>97.1</td>\n",
       "      <td>37.8</td>\n",
       "      <td>3.0</td>\n",
       "      <td>1.0</td>\n",
       "      <td>1.000000e+01</td>\n",
       "      <td>NaN</td>\n",
       "      <td>NaN</td>\n",
       "      <td>2.0</td>\n",
       "      <td>29.0</td>\n",
       "      <td>5.0</td>\n",
       "    </tr>\n",
       "    <tr>\n",
       "      <th>8</th>\n",
       "      <td>109271.0</td>\n",
       "      <td>2.0</td>\n",
       "      <td>2.0</td>\n",
       "      <td>1.0</td>\n",
       "      <td>98.8</td>\n",
       "      <td>29.7</td>\n",
       "      <td>1.0</td>\n",
       "      <td>1.0</td>\n",
       "      <td>5.397605e-79</td>\n",
       "      <td>1.0</td>\n",
       "      <td>1.0</td>\n",
       "      <td>1.0</td>\n",
       "      <td>49.0</td>\n",
       "      <td>3.0</td>\n",
       "    </tr>\n",
       "    <tr>\n",
       "      <th>9</th>\n",
       "      <td>109273.0</td>\n",
       "      <td>2.0</td>\n",
       "      <td>1.0</td>\n",
       "      <td>1.0</td>\n",
       "      <td>74.3</td>\n",
       "      <td>21.9</td>\n",
       "      <td>1.0</td>\n",
       "      <td>1.0</td>\n",
       "      <td>5.397605e-79</td>\n",
       "      <td>NaN</td>\n",
       "      <td>NaN</td>\n",
       "      <td>1.0</td>\n",
       "      <td>36.0</td>\n",
       "      <td>3.0</td>\n",
       "    </tr>\n",
       "    <tr>\n",
       "      <th>10</th>\n",
       "      <td>109274.0</td>\n",
       "      <td>1.0</td>\n",
       "      <td>1.0</td>\n",
       "      <td>2.0</td>\n",
       "      <td>103.7</td>\n",
       "      <td>30.2</td>\n",
       "      <td>1.0</td>\n",
       "      <td>1.0</td>\n",
       "      <td>4.000000e+00</td>\n",
       "      <td>2.0</td>\n",
       "      <td>2.0</td>\n",
       "      <td>1.0</td>\n",
       "      <td>68.0</td>\n",
       "      <td>5.0</td>\n",
       "    </tr>\n",
       "    <tr>\n",
       "      <th>16</th>\n",
       "      <td>109282.0</td>\n",
       "      <td>2.0</td>\n",
       "      <td>2.0</td>\n",
       "      <td>1.0</td>\n",
       "      <td>83.3</td>\n",
       "      <td>26.6</td>\n",
       "      <td>3.0</td>\n",
       "      <td>1.0</td>\n",
       "      <td>5.397605e-79</td>\n",
       "      <td>1.0</td>\n",
       "      <td>1.0</td>\n",
       "      <td>1.0</td>\n",
       "      <td>76.0</td>\n",
       "      <td>3.0</td>\n",
       "    </tr>\n",
       "    <tr>\n",
       "      <th>...</th>\n",
       "      <td>...</td>\n",
       "      <td>...</td>\n",
       "      <td>...</td>\n",
       "      <td>...</td>\n",
       "      <td>...</td>\n",
       "      <td>...</td>\n",
       "      <td>...</td>\n",
       "      <td>...</td>\n",
       "      <td>...</td>\n",
       "      <td>...</td>\n",
       "      <td>...</td>\n",
       "      <td>...</td>\n",
       "      <td>...</td>\n",
       "      <td>...</td>\n",
       "    </tr>\n",
       "    <tr>\n",
       "      <th>14978</th>\n",
       "      <td>124815.0</td>\n",
       "      <td>2.0</td>\n",
       "      <td>1.0</td>\n",
       "      <td>1.0</td>\n",
       "      <td>94.3</td>\n",
       "      <td>29.5</td>\n",
       "      <td>2.0</td>\n",
       "      <td>1.0</td>\n",
       "      <td>3.000000e+00</td>\n",
       "      <td>2.0</td>\n",
       "      <td>2.0</td>\n",
       "      <td>1.0</td>\n",
       "      <td>52.0</td>\n",
       "      <td>4.0</td>\n",
       "    </tr>\n",
       "    <tr>\n",
       "      <th>14980</th>\n",
       "      <td>124817.0</td>\n",
       "      <td>1.0</td>\n",
       "      <td>1.0</td>\n",
       "      <td>2.0</td>\n",
       "      <td>82.8</td>\n",
       "      <td>37.9</td>\n",
       "      <td>2.0</td>\n",
       "      <td>1.0</td>\n",
       "      <td>3.000000e+00</td>\n",
       "      <td>1.0</td>\n",
       "      <td>1.0</td>\n",
       "      <td>2.0</td>\n",
       "      <td>67.0</td>\n",
       "      <td>1.0</td>\n",
       "    </tr>\n",
       "    <tr>\n",
       "      <th>14981</th>\n",
       "      <td>124818.0</td>\n",
       "      <td>2.0</td>\n",
       "      <td>2.0</td>\n",
       "      <td>2.0</td>\n",
       "      <td>108.8</td>\n",
       "      <td>38.2</td>\n",
       "      <td>3.0</td>\n",
       "      <td>1.0</td>\n",
       "      <td>9.000000e+00</td>\n",
       "      <td>1.0</td>\n",
       "      <td>1.0</td>\n",
       "      <td>1.0</td>\n",
       "      <td>40.0</td>\n",
       "      <td>4.0</td>\n",
       "    </tr>\n",
       "    <tr>\n",
       "      <th>14984</th>\n",
       "      <td>124821.0</td>\n",
       "      <td>3.0</td>\n",
       "      <td>1.0</td>\n",
       "      <td>2.0</td>\n",
       "      <td>79.5</td>\n",
       "      <td>25.5</td>\n",
       "      <td>3.0</td>\n",
       "      <td>1.0</td>\n",
       "      <td>5.000000e+00</td>\n",
       "      <td>2.0</td>\n",
       "      <td>2.0</td>\n",
       "      <td>1.0</td>\n",
       "      <td>63.0</td>\n",
       "      <td>4.0</td>\n",
       "    </tr>\n",
       "    <tr>\n",
       "      <th>14985</th>\n",
       "      <td>124822.0</td>\n",
       "      <td>2.0</td>\n",
       "      <td>2.0</td>\n",
       "      <td>2.0</td>\n",
       "      <td>59.7</td>\n",
       "      <td>21.3</td>\n",
       "      <td>NaN</td>\n",
       "      <td>1.0</td>\n",
       "      <td>6.000000e+00</td>\n",
       "      <td>1.0</td>\n",
       "      <td>1.0</td>\n",
       "      <td>1.0</td>\n",
       "      <td>74.0</td>\n",
       "      <td>2.0</td>\n",
       "    </tr>\n",
       "  </tbody>\n",
       "</table>\n",
       "<p>8111 rows × 14 columns</p>\n",
       "</div>"
      ],
      "text/plain": [
       "           SEQN  DIQ010  PAQ605  SMQ020  BMXWT  BMXBMI  INDFMMPC  ALQ111   \n",
       "3      109266.0     2.0     2.0     2.0   97.1    37.8       3.0     1.0  \\\n",
       "8      109271.0     2.0     2.0     1.0   98.8    29.7       1.0     1.0   \n",
       "9      109273.0     2.0     1.0     1.0   74.3    21.9       1.0     1.0   \n",
       "10     109274.0     1.0     1.0     2.0  103.7    30.2       1.0     1.0   \n",
       "16     109282.0     2.0     2.0     1.0   83.3    26.6       3.0     1.0   \n",
       "...         ...     ...     ...     ...    ...     ...       ...     ...   \n",
       "14978  124815.0     2.0     1.0     1.0   94.3    29.5       2.0     1.0   \n",
       "14980  124817.0     1.0     1.0     2.0   82.8    37.9       2.0     1.0   \n",
       "14981  124818.0     2.0     2.0     2.0  108.8    38.2       3.0     1.0   \n",
       "14984  124821.0     3.0     1.0     2.0   79.5    25.5       3.0     1.0   \n",
       "14985  124822.0     2.0     2.0     2.0   59.7    21.3       NaN     1.0   \n",
       "\n",
       "             ALQ121  CDQ001  CDQ010  RIAGENDR  RIDAGEYR  RIDRETH1  \n",
       "3      1.000000e+01     NaN     NaN       2.0      29.0       5.0  \n",
       "8      5.397605e-79     1.0     1.0       1.0      49.0       3.0  \n",
       "9      5.397605e-79     NaN     NaN       1.0      36.0       3.0  \n",
       "10     4.000000e+00     2.0     2.0       1.0      68.0       5.0  \n",
       "16     5.397605e-79     1.0     1.0       1.0      76.0       3.0  \n",
       "...             ...     ...     ...       ...       ...       ...  \n",
       "14978  3.000000e+00     2.0     2.0       1.0      52.0       4.0  \n",
       "14980  3.000000e+00     1.0     1.0       2.0      67.0       1.0  \n",
       "14981  9.000000e+00     1.0     1.0       1.0      40.0       4.0  \n",
       "14984  5.000000e+00     2.0     2.0       1.0      63.0       4.0  \n",
       "14985  6.000000e+00     1.0     1.0       1.0      74.0       2.0  \n",
       "\n",
       "[8111 rows x 14 columns]"
      ]
     },
     "execution_count": 18,
     "metadata": {},
     "output_type": "execute_result"
    }
   ],
   "source": [
    "filtered_df"
   ]
  },
  {
   "cell_type": "markdown",
   "metadata": {},
   "source": [
    "It seems that the features are not in the sequence that was defined."
   ]
  },
  {
   "cell_type": "code",
   "execution_count": 19,
   "metadata": {},
   "outputs": [],
   "source": [
    "columns = []\n",
    "\n",
    "for key in features_dict.keys():\n",
    "    \n",
    "    features = features_dict[key]\n",
    "    features.remove(\"SEQN\")\n",
    "    \n",
    "    columns += features\n",
    "    \n",
    "columns = [\"SEQN\"] + columns"
   ]
  },
  {
   "cell_type": "code",
   "execution_count": 20,
   "metadata": {},
   "outputs": [
    {
     "name": "stdout",
     "output_type": "stream",
     "text": [
      "The dataset shape is:  (8111, 14)\n"
     ]
    },
    {
     "data": {
      "text/html": [
       "<div>\n",
       "<style scoped>\n",
       "    .dataframe tbody tr th:only-of-type {\n",
       "        vertical-align: middle;\n",
       "    }\n",
       "\n",
       "    .dataframe tbody tr th {\n",
       "        vertical-align: top;\n",
       "    }\n",
       "\n",
       "    .dataframe thead th {\n",
       "        text-align: right;\n",
       "    }\n",
       "</style>\n",
       "<table border=\"1\" class=\"dataframe\">\n",
       "  <thead>\n",
       "    <tr style=\"text-align: right;\">\n",
       "      <th></th>\n",
       "      <th>SEQN</th>\n",
       "      <th>RIAGENDR</th>\n",
       "      <th>RIDAGEYR</th>\n",
       "      <th>RIDRETH1</th>\n",
       "      <th>BMXWT</th>\n",
       "      <th>BMXBMI</th>\n",
       "      <th>DIQ010</th>\n",
       "      <th>PAQ605</th>\n",
       "      <th>SMQ020</th>\n",
       "      <th>INDFMMPC</th>\n",
       "      <th>ALQ111</th>\n",
       "      <th>ALQ121</th>\n",
       "      <th>CDQ001</th>\n",
       "      <th>CDQ010</th>\n",
       "    </tr>\n",
       "  </thead>\n",
       "  <tbody>\n",
       "    <tr>\n",
       "      <th>0</th>\n",
       "      <td>109266.0</td>\n",
       "      <td>2.0</td>\n",
       "      <td>29.0</td>\n",
       "      <td>5.0</td>\n",
       "      <td>97.1</td>\n",
       "      <td>37.8</td>\n",
       "      <td>2.0</td>\n",
       "      <td>2.0</td>\n",
       "      <td>2.0</td>\n",
       "      <td>3.0</td>\n",
       "      <td>1.0</td>\n",
       "      <td>1.000000e+01</td>\n",
       "      <td>NaN</td>\n",
       "      <td>NaN</td>\n",
       "    </tr>\n",
       "    <tr>\n",
       "      <th>1</th>\n",
       "      <td>109271.0</td>\n",
       "      <td>1.0</td>\n",
       "      <td>49.0</td>\n",
       "      <td>3.0</td>\n",
       "      <td>98.8</td>\n",
       "      <td>29.7</td>\n",
       "      <td>2.0</td>\n",
       "      <td>2.0</td>\n",
       "      <td>1.0</td>\n",
       "      <td>1.0</td>\n",
       "      <td>1.0</td>\n",
       "      <td>5.397605e-79</td>\n",
       "      <td>1.0</td>\n",
       "      <td>1.0</td>\n",
       "    </tr>\n",
       "    <tr>\n",
       "      <th>2</th>\n",
       "      <td>109273.0</td>\n",
       "      <td>1.0</td>\n",
       "      <td>36.0</td>\n",
       "      <td>3.0</td>\n",
       "      <td>74.3</td>\n",
       "      <td>21.9</td>\n",
       "      <td>2.0</td>\n",
       "      <td>1.0</td>\n",
       "      <td>1.0</td>\n",
       "      <td>1.0</td>\n",
       "      <td>1.0</td>\n",
       "      <td>5.397605e-79</td>\n",
       "      <td>NaN</td>\n",
       "      <td>NaN</td>\n",
       "    </tr>\n",
       "    <tr>\n",
       "      <th>3</th>\n",
       "      <td>109274.0</td>\n",
       "      <td>1.0</td>\n",
       "      <td>68.0</td>\n",
       "      <td>5.0</td>\n",
       "      <td>103.7</td>\n",
       "      <td>30.2</td>\n",
       "      <td>1.0</td>\n",
       "      <td>1.0</td>\n",
       "      <td>2.0</td>\n",
       "      <td>1.0</td>\n",
       "      <td>1.0</td>\n",
       "      <td>4.000000e+00</td>\n",
       "      <td>2.0</td>\n",
       "      <td>2.0</td>\n",
       "    </tr>\n",
       "    <tr>\n",
       "      <th>4</th>\n",
       "      <td>109282.0</td>\n",
       "      <td>1.0</td>\n",
       "      <td>76.0</td>\n",
       "      <td>3.0</td>\n",
       "      <td>83.3</td>\n",
       "      <td>26.6</td>\n",
       "      <td>2.0</td>\n",
       "      <td>2.0</td>\n",
       "      <td>1.0</td>\n",
       "      <td>3.0</td>\n",
       "      <td>1.0</td>\n",
       "      <td>5.397605e-79</td>\n",
       "      <td>1.0</td>\n",
       "      <td>1.0</td>\n",
       "    </tr>\n",
       "  </tbody>\n",
       "</table>\n",
       "</div>"
      ],
      "text/plain": [
       "       SEQN  RIAGENDR  RIDAGEYR  RIDRETH1  BMXWT  BMXBMI  DIQ010  PAQ605   \n",
       "0  109266.0       2.0      29.0       5.0   97.1    37.8     2.0     2.0  \\\n",
       "1  109271.0       1.0      49.0       3.0   98.8    29.7     2.0     2.0   \n",
       "2  109273.0       1.0      36.0       3.0   74.3    21.9     2.0     1.0   \n",
       "3  109274.0       1.0      68.0       5.0  103.7    30.2     1.0     1.0   \n",
       "4  109282.0       1.0      76.0       3.0   83.3    26.6     2.0     2.0   \n",
       "\n",
       "   SMQ020  INDFMMPC  ALQ111        ALQ121  CDQ001  CDQ010  \n",
       "0     2.0       3.0     1.0  1.000000e+01     NaN     NaN  \n",
       "1     1.0       1.0     1.0  5.397605e-79     1.0     1.0  \n",
       "2     1.0       1.0     1.0  5.397605e-79     NaN     NaN  \n",
       "3     2.0       1.0     1.0  4.000000e+00     2.0     2.0  \n",
       "4     1.0       3.0     1.0  5.397605e-79     1.0     1.0  "
      ]
     },
     "execution_count": 20,
     "metadata": {},
     "output_type": "execute_result"
    }
   ],
   "source": [
    "filtered_df = filtered_df[columns]\n",
    "\n",
    "filtered_df.reset_index(inplace=True)\n",
    "filtered_df.drop(columns=\"index\", inplace=True)\n",
    "\n",
    "print(\"The dataset shape is: \", filtered_df.shape)\n",
    "filtered_df.head(5)"
   ]
  },
  {
   "cell_type": "markdown",
   "metadata": {},
   "source": [
    "It seems that we have a problem with the ALQ121 feature which is for alcohol usage dataset."
   ]
  },
  {
   "cell_type": "code",
   "execution_count": 21,
   "metadata": {},
   "outputs": [
    {
     "data": {
      "text/html": [
       "<div>\n",
       "<style scoped>\n",
       "    .dataframe tbody tr th:only-of-type {\n",
       "        vertical-align: middle;\n",
       "    }\n",
       "\n",
       "    .dataframe tbody tr th {\n",
       "        vertical-align: top;\n",
       "    }\n",
       "\n",
       "    .dataframe thead th {\n",
       "        text-align: right;\n",
       "    }\n",
       "</style>\n",
       "<table border=\"1\" class=\"dataframe\">\n",
       "  <thead>\n",
       "    <tr style=\"text-align: right;\">\n",
       "      <th></th>\n",
       "      <th>SEQN</th>\n",
       "      <th>RIAGENDR</th>\n",
       "      <th>RIDAGEYR</th>\n",
       "      <th>RIDRETH1</th>\n",
       "      <th>BMXWT</th>\n",
       "      <th>BMXBMI</th>\n",
       "      <th>DIQ010</th>\n",
       "      <th>PAQ605</th>\n",
       "      <th>SMQ020</th>\n",
       "      <th>INDFMMPC</th>\n",
       "      <th>ALQ111</th>\n",
       "      <th>ALQ121</th>\n",
       "      <th>CDQ001</th>\n",
       "      <th>CDQ010</th>\n",
       "    </tr>\n",
       "  </thead>\n",
       "  <tbody>\n",
       "    <tr>\n",
       "      <th>0</th>\n",
       "      <td>109266.0</td>\n",
       "      <td>2.0</td>\n",
       "      <td>29.0</td>\n",
       "      <td>5.0</td>\n",
       "      <td>97.1</td>\n",
       "      <td>37.8</td>\n",
       "      <td>2.0</td>\n",
       "      <td>2.0</td>\n",
       "      <td>2.0</td>\n",
       "      <td>3.0</td>\n",
       "      <td>1.0</td>\n",
       "      <td>10.0</td>\n",
       "      <td>NaN</td>\n",
       "      <td>NaN</td>\n",
       "    </tr>\n",
       "    <tr>\n",
       "      <th>1</th>\n",
       "      <td>109271.0</td>\n",
       "      <td>1.0</td>\n",
       "      <td>49.0</td>\n",
       "      <td>3.0</td>\n",
       "      <td>98.8</td>\n",
       "      <td>29.7</td>\n",
       "      <td>2.0</td>\n",
       "      <td>2.0</td>\n",
       "      <td>1.0</td>\n",
       "      <td>1.0</td>\n",
       "      <td>1.0</td>\n",
       "      <td>0.0</td>\n",
       "      <td>1.0</td>\n",
       "      <td>1.0</td>\n",
       "    </tr>\n",
       "    <tr>\n",
       "      <th>2</th>\n",
       "      <td>109273.0</td>\n",
       "      <td>1.0</td>\n",
       "      <td>36.0</td>\n",
       "      <td>3.0</td>\n",
       "      <td>74.3</td>\n",
       "      <td>21.9</td>\n",
       "      <td>2.0</td>\n",
       "      <td>1.0</td>\n",
       "      <td>1.0</td>\n",
       "      <td>1.0</td>\n",
       "      <td>1.0</td>\n",
       "      <td>0.0</td>\n",
       "      <td>NaN</td>\n",
       "      <td>NaN</td>\n",
       "    </tr>\n",
       "    <tr>\n",
       "      <th>3</th>\n",
       "      <td>109274.0</td>\n",
       "      <td>1.0</td>\n",
       "      <td>68.0</td>\n",
       "      <td>5.0</td>\n",
       "      <td>103.7</td>\n",
       "      <td>30.2</td>\n",
       "      <td>1.0</td>\n",
       "      <td>1.0</td>\n",
       "      <td>2.0</td>\n",
       "      <td>1.0</td>\n",
       "      <td>1.0</td>\n",
       "      <td>4.0</td>\n",
       "      <td>2.0</td>\n",
       "      <td>2.0</td>\n",
       "    </tr>\n",
       "    <tr>\n",
       "      <th>4</th>\n",
       "      <td>109282.0</td>\n",
       "      <td>1.0</td>\n",
       "      <td>76.0</td>\n",
       "      <td>3.0</td>\n",
       "      <td>83.3</td>\n",
       "      <td>26.6</td>\n",
       "      <td>2.0</td>\n",
       "      <td>2.0</td>\n",
       "      <td>1.0</td>\n",
       "      <td>3.0</td>\n",
       "      <td>1.0</td>\n",
       "      <td>0.0</td>\n",
       "      <td>1.0</td>\n",
       "      <td>1.0</td>\n",
       "    </tr>\n",
       "  </tbody>\n",
       "</table>\n",
       "</div>"
      ],
      "text/plain": [
       "       SEQN  RIAGENDR  RIDAGEYR  RIDRETH1  BMXWT  BMXBMI  DIQ010  PAQ605   \n",
       "0  109266.0       2.0      29.0       5.0   97.1    37.8     2.0     2.0  \\\n",
       "1  109271.0       1.0      49.0       3.0   98.8    29.7     2.0     2.0   \n",
       "2  109273.0       1.0      36.0       3.0   74.3    21.9     2.0     1.0   \n",
       "3  109274.0       1.0      68.0       5.0  103.7    30.2     1.0     1.0   \n",
       "4  109282.0       1.0      76.0       3.0   83.3    26.6     2.0     2.0   \n",
       "\n",
       "   SMQ020  INDFMMPC  ALQ111  ALQ121  CDQ001  CDQ010  \n",
       "0     2.0       3.0     1.0    10.0     NaN     NaN  \n",
       "1     1.0       1.0     1.0     0.0     1.0     1.0  \n",
       "2     1.0       1.0     1.0     0.0     NaN     NaN  \n",
       "3     2.0       1.0     1.0     4.0     2.0     2.0  \n",
       "4     1.0       3.0     1.0     0.0     1.0     1.0  "
      ]
     },
     "execution_count": 21,
     "metadata": {},
     "output_type": "execute_result"
    }
   ],
   "source": [
    "# Define a custom rounding function that handles NaN values\n",
    "def round_with_nan(x):\n",
    "    if pd.notna(x):\n",
    "        return float(round(x))\n",
    "    return x\n",
    "\n",
    "# Apply the custom rounding function to the specified columns\n",
    "filtered_df[[\"ALQ121\"]] = filtered_df[[\"ALQ121\"]].applymap(round_with_nan)\n",
    "\n",
    "filtered_df.head(5)"
   ]
  },
  {
   "cell_type": "markdown",
   "metadata": {},
   "source": [
    "Let's check if the problem with the feature has been solved.</br>\n",
    "But before checking the dataset, change the default value of column width."
   ]
  },
  {
   "cell_type": "code",
   "execution_count": 22,
   "metadata": {},
   "outputs": [],
   "source": [
    "pd.set_option(\"display.max_colwidth\", 0)"
   ]
  },
  {
   "cell_type": "code",
   "execution_count": 23,
   "metadata": {},
   "outputs": [
    {
     "data": {
      "text/html": [
       "<div>\n",
       "<style scoped>\n",
       "    .dataframe tbody tr th:only-of-type {\n",
       "        vertical-align: middle;\n",
       "    }\n",
       "\n",
       "    .dataframe tbody tr th {\n",
       "        vertical-align: top;\n",
       "    }\n",
       "\n",
       "    .dataframe thead th {\n",
       "        text-align: right;\n",
       "    }\n",
       "</style>\n",
       "<table border=\"1\" class=\"dataframe\">\n",
       "  <thead>\n",
       "    <tr style=\"text-align: right;\">\n",
       "      <th></th>\n",
       "      <th>Feature</th>\n",
       "      <th>Num_Unique</th>\n",
       "      <th>Unique_Values</th>\n",
       "    </tr>\n",
       "  </thead>\n",
       "  <tbody>\n",
       "    <tr>\n",
       "      <th>0</th>\n",
       "      <td>ALQ121</td>\n",
       "      <td>14</td>\n",
       "      <td>[nan, 0.0, 1.0, 2.0, 3.0, 4.0, 5.0, 6.0, 7.0, 8.0, 9.0, 10.0, 77.0, 99.0]</td>\n",
       "    </tr>\n",
       "  </tbody>\n",
       "</table>\n",
       "</div>"
      ],
      "text/plain": [
       "  Feature  Num_Unique   \n",
       "0  ALQ121  14          \\\n",
       "\n",
       "                                                               Unique_Values  \n",
       "0  [nan, 0.0, 1.0, 2.0, 3.0, 4.0, 5.0, 6.0, 7.0, 8.0, 9.0, 10.0, 77.0, 99.0]  "
      ]
     },
     "execution_count": 23,
     "metadata": {},
     "output_type": "execute_result"
    }
   ],
   "source": [
    "# Use value_counts()\n",
    "df = filtered_df[[\"ALQ121\"]]\n",
    "\n",
    "# Initialize an empty list to store results\n",
    "feature_info = []\n",
    "\n",
    "# Loop through the columns\n",
    "for column in df.columns:\n",
    "    unique_values = df[column].unique()\n",
    "    unique_values = natsorted(unique_values)\n",
    "    num_unique = len(unique_values)\n",
    "    feature_info.append([column, num_unique, unique_values])\n",
    "\n",
    "# Create a DataFrame from feature_info\n",
    "feature_info_df = pd.DataFrame(feature_info, columns=[\"Feature\", \"Num_Unique\", \"Unique_Values\"])\n",
    "\n",
    "feature_info_df"
   ]
  },
  {
   "cell_type": "markdown",
   "metadata": {},
   "source": [
    "Nice! Seems perfect. Save the final dataset, and then the job is done."
   ]
  },
  {
   "cell_type": "code",
   "execution_count": 24,
   "metadata": {},
   "outputs": [],
   "source": [
    "filtered_df.to_csv(\"final_dataset.csv\", index=False)"
   ]
  }
 ],
 "metadata": {
  "kernelspec": {
   "display_name": "tensorflow",
   "language": "python",
   "name": "python3"
  },
  "language_info": {
   "codemirror_mode": {
    "name": "ipython",
    "version": 3
   },
   "file_extension": ".py",
   "mimetype": "text/x-python",
   "name": "python",
   "nbconvert_exporter": "python",
   "pygments_lexer": "ipython3",
   "version": "3.10.11"
  }
 },
 "nbformat": 4,
 "nbformat_minor": 2
}
